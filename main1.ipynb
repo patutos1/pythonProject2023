{
 "cells": [
  {
   "cell_type": "code",
   "execution_count": 52,
   "id": "acfe8960",
   "metadata": {},
   "outputs": [],
   "source": [
    "import tkinter\n",
    "from tkinter import *\n",
    "from tkinter import ttk\n",
    "from PIL import ImageTk, Image"
   ]
  },
  {
   "cell_type": "code",
   "execution_count": 53,
   "id": "a13db97c",
   "metadata": {},
   "outputs": [
    {
     "name": "stdout",
     "output_type": "stream",
     "text": [
      "Test complete!!\n"
     ]
    }
   ],
   "source": [
    "window = Tk()\n",
    "window.title(\"NFL Matchup Tool Demo\")\n",
    "window.geometry(\"1920x1080+50+50\")\n",
    "\n",
    "windowWidth=1920\n",
    "windowHeight=1080\n",
    "screenWidth=window.winfo_screenwidth()\n",
    "screenHeight=window.winfo_screenheight()\n",
    "centerX= int(screenWidth/2 - windowWidth /2)\n",
    "centerY= int(screenHeight/2 - windowHeight/2)\n",
    "window.geometry(f'{windowWidth}x{windowHeight}+{centerX}+{centerY}')\n",
    "\n",
    "a = ttk.Label(window, text=\"NFL Matchup Tool 2022\", font=(\"Calibri\", 60))\n",
    "a.pack()\n",
    "\n",
    "team1 = ttk.Label(window, text=\"Enter an NFL team:\", font=(\"Calibri\", 36))\n",
    "team1.place(relx = 0.0, rely = 0.15, anchor ='sw')\n",
    "\n",
    "team2 = ttk.Label(window, text=\"Enter another NFL team:\", font=(\"Calibri\", 36))\n",
    "team2.place(relx = 0.467, rely = 0.15, anchor ='sw')\n",
    "\n",
    "T1 = Text(window, height=3, width=42)\n",
    "T1.place(relx=0.22, rely=0.15, anchor='sw')\n",
    "T2 = Text(window, height=3, width=42)\n",
    "T2.place(relx=0.749, rely=0.15, anchor='sw')\n",
    "\n",
    "Enter1 = Button(window, text=\"Enter\", height=3, width=8, command=check1())\n",
    "Enter1.place(relx=0.423, rely=0.15, anchor='sw')\n",
    "Enter2 = Button(window, text=\"Enter\", height=3, width=8)\n",
    "Enter2.place(relx=0.953, rely=0.15, anchor='sw')\n",
    "Exit = Button(window, text=\"Exit Program\", height=5, width=12, command=window.destroy)\n",
    "Exit.place(relx=0.94, rely=0.995, anchor='sw')\n",
    "\n",
    "window.mainloop()"
   ]
  },
  {
   "cell_type": "code",
   "execution_count": 23,
   "id": "ef037a2f",
   "metadata": {},
   "outputs": [],
   "source": [
    "def check1():\n",
    "    "
   ]
  }
 ],
 "metadata": {
  "kernelspec": {
   "display_name": "Python 3 (ipykernel)",
   "language": "python",
   "name": "python3"
  },
  "language_info": {
   "codemirror_mode": {
    "name": "ipython",
    "version": 3
   },
   "file_extension": ".py",
   "mimetype": "text/x-python",
   "name": "python",
   "nbconvert_exporter": "python",
   "pygments_lexer": "ipython3",
   "version": "3.9.13"
  }
 },
 "nbformat": 4,
 "nbformat_minor": 5
}
