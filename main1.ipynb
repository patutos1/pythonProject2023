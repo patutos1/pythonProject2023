{
 "cells": [
  {
   "cell_type": "code",
   "execution_count": 104,
   "id": "acfe8960",
   "metadata": {},
   "outputs": [],
   "source": [
    "import tkinter\n",
    "from tkinter import *\n",
    "from tkinter import ttk\n",
    "from PIL import ImageTk, Image"
   ]
  },
  {
   "cell_type": "code",
   "execution_count": 106,
   "id": "a13db97c",
   "metadata": {},
   "outputs": [],
   "source": [
    "window = Tk()\n",
    "window.title(\"NFL Matchup Tool Demo\")\n",
    "window.geometry(\"1920x1080+50+50\")\n",
    "\n",
    "windowWidth=1920\n",
    "windowHeight=1080\n",
    "window.attributes('-fullscreen', True)\n",
    "#screenWidth=window.winfo_screenwidth()\n",
    "#screenHeight=window.winfo_screenheight()\n",
    "#centerX= int(screenWidth/2 - windowWidth /2)\n",
    "#centerY= int(screenHeight/2 - windowHeight/2)\n",
    "#window.geometry(f'{windowWidth}x{windowHeight}+{centerX}+{centerY}')\n",
    "\n",
    "a = ttk.Label(window, text=\"NFL Matchup Tool 2022\", font=(\"Calibri\", 60))\n",
    "a.pack()\n",
    "\n",
    "team1 = ttk.Label(window, text=\"Enter an NFL team:\", font=(\"Calibri\", 36))\n",
    "team1.place(x=0, y=100)\n",
    "team2 = ttk.Label(window, text=\"Enter another NFL team:\", font=(\"Calibri\", 36))\n",
    "team2.place(x=790, y=100)\n",
    "\n",
    "T1 = Text(window, height=3, width=42)\n",
    "T1.place(x=380, y=100)\n",
    "T2 = Text(window, height=3, width=42)\n",
    "T2.place(x=1280, y=100)\n",
    "\n",
    "Enter1 = Button(window, text=\"Enter\", height=3, width=8)\n",
    "Enter1.place(x=725, y=100)\n",
    "Enter2 = Button(window, text=\"Enter\", height=3, width=8)\n",
    "Enter2.place(x=1630, y=100)\n",
    "Exit = Button(window, text=\"Exit Program\", height=5, width=12, command=window.destroy)\n",
    "Exit.place(x=1605, y=970)\n",
    "\n",
    "#canvas1 = tkinter.Canvas(window, height = 600, width = 785)\n",
    "#canvas1.place(x=0, y=160)\n",
    "canvas2 = tkinter.Canvas(window, height = 600, width = 785, bg = 'black')\n",
    "canvas2.place(x=916, y=170)\n",
    "\n",
    "window.mainloop()"
   ]
  },
  {
   "cell_type": "code",
   "execution_count": 105,
   "id": "ef037a2f",
   "metadata": {},
   "outputs": [],
   "source": [
    "def check1():\n",
    "    name = T1.get()\n",
    "    isThere = False \n",
    "    #here, check if name matches with team\n",
    "    if(name.capitalize() == \"NEW YORK GIANTS\"):\n",
    "        isThere = True\n",
    "    else:\n",
    "        isThere = False\n",
    "     \n",
    "    return isThere\n",
    "    \n",
    "def stats1():\n",
    "    canvas1 = tkinter.Canvas(window, height = 600, width = 785, text = 'test')\n",
    "    canvas1.place(x=0, y=160)"
   ]
  }
 ],
 "metadata": {
  "kernelspec": {
   "display_name": "Python 3 (ipykernel)",
   "language": "python",
   "name": "python3"
  },
  "language_info": {
   "codemirror_mode": {
    "name": "ipython",
    "version": 3
   },
   "file_extension": ".py",
   "mimetype": "text/x-python",
   "name": "python",
   "nbconvert_exporter": "python",
   "pygments_lexer": "ipython3",
   "version": "3.9.13"
  }
 },
 "nbformat": 4,
 "nbformat_minor": 5
}
